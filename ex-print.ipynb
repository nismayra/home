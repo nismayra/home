{
  "nbformat": 4,
  "nbformat_minor": 0,
  "metadata": {
    "colab": {
      "name": "Untitled0.ipynb",
      "provenance": [],
      "authorship_tag": "ABX9TyP7IwDCNb/v9ydkfE8woCYP",
      "include_colab_link": true
    },
    "kernelspec": {
      "name": "python3",
      "display_name": "Python 3"
    }
  },
  "cells": [
    {
      "cell_type": "markdown",
      "metadata": {
        "id": "view-in-github",
        "colab_type": "text"
      },
      "source": [
        "<a href=\"https://colab.research.google.com/github/nismayra/home/blob/master/ex-print.ipynb\" target=\"_parent\"><img src=\"https://colab.research.google.com/assets/colab-badge.svg\" alt=\"Open In Colab\"/></a>"
      ]
    },
    {
      "cell_type": "code",
      "metadata": {
        "id": "nHuka1ddFqhF",
        "colab_type": "code",
        "colab": {
          "base_uri": "https://localhost:8080/",
          "height": 68
        },
        "outputId": "ec9bb8fb-ea9d-4a37-b3c9-2697e1ba547d"
      },
      "source": [
        "from __future__ import print_function\n",
        "from time import sleep\n",
        "import bs4\n",
        "\n",
        "\n",
        "string = \"The words in this sentence should appear letter by letter.\"\n",
        "\n",
        "print(\"Please wait if you don't see another sentence appearing below.\", end=\"\\n\\n\")\n",
        "\n",
        "for characters in string:\n",
        "    # If flush disabled the another line will appear at once and not char by char.\n",
        "    print(characters, end='', flush=False)\n",
        "    sleep(.1)"
      ],
      "execution_count": 7,
      "outputs": [
        {
          "output_type": "stream",
          "text": [
            "Please wait if you don't see another sentence appearing below.\n",
            "\n",
            "The words in this sentence should appear letter by letter."
          ],
          "name": "stdout"
        }
      ]
    }
  ]
}